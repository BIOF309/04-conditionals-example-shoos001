{
 "cells": [
  {
   "cell_type": "code",
   "execution_count": 1,
   "metadata": {},
   "outputs": [
    {
     "name": "stdout",
     "output_type": "stream",
     "text": [
      "my favorite!\n",
      "I feel like saying it 10 times...\n",
      "Pizza! Pizza! Pizza! Pizza! Pizza! Pizza! Pizza! Pizza! Pizza! Pizza! \n"
     ]
    }
   ],
   "source": [
    "# Conditionals\n",
    "# The if statement\n",
    "\n",
    "food = 'Pizza'\n",
    "\n",
    "if food == 'Pizza':\n",
    "    print('my favorite!')\n",
    "    print('I feel like saying it 10 times...')\n",
    "    print(10 * (food + '! '))"
   ]
  },
  {
   "cell_type": "code",
   "execution_count": 2,
   "metadata": {},
   "outputs": [
    {
     "name": "stdout",
     "output_type": "stream",
     "text": [
      "my favorite!\n"
     ]
    }
   ],
   "source": [
    "# The if else statement\n",
    "\n",
    "if food == 'Pizza':\n",
    "    print('my favorite!')\n",
    "else:\n",
    "    print(\"No, I won't have it. I want Pizza!\")"
   ]
  },
  {
   "cell_type": "code",
   "execution_count": null,
   "metadata": {
    "collapsed": true
   },
   "outputs": [],
   "source": [
    "# The if else elif statement\n",
    "a = 21\n",
    "\n",
    "if a >= 23:\n",
    "\n",
    "    print(\"if\")\n",
    "\n",
    "elif a >= 22:\n",
    "\n",
    "    print(\"elif\")\n",
    "\n",
    "else:\n",
    "\n",
    "    print(\"else\")"
   ]
  }
 ],
 "metadata": {
  "kernelspec": {
   "display_name": "Python 3",
   "language": "python",
   "name": "python3"
  },
  "language_info": {
   "codemirror_mode": {
    "name": "ipython",
    "version": 3
   },
   "file_extension": ".py",
   "mimetype": "text/x-python",
   "name": "python",
   "nbconvert_exporter": "python",
   "pygments_lexer": "ipython3",
   "version": "3.6.1"
  }
 },
 "nbformat": 4,
 "nbformat_minor": 2
}
